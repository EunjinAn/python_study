{
  "nbformat": 4,
  "nbformat_minor": 0,
  "metadata": {
    "colab": {
      "provenance": [],
      "authorship_tag": "ABX9TyN3AWfXJfPVE5djIclOt3XK",
      "include_colab_link": true
    },
    "kernelspec": {
      "name": "python3",
      "display_name": "Python 3"
    },
    "language_info": {
      "name": "python"
    }
  },
  "cells": [
    {
      "cell_type": "markdown",
      "metadata": {
        "id": "view-in-github",
        "colab_type": "text"
      },
      "source": [
        "<a href=\"https://colab.research.google.com/github/EunjinAn/python_study/blob/main/Crown.ipynb\" target=\"_parent\"><img src=\"https://colab.research.google.com/assets/colab-badge.svg\" alt=\"Open In Colab\"/></a>"
      ]
    },
    {
      "cell_type": "markdown",
      "source": [
        "### Import library"
      ],
      "metadata": {
        "id": "HV-_03rSLMb7"
      }
    },
    {
      "cell_type": "code",
      "execution_count": 4,
      "metadata": {
        "id": "sBwNhzZMUnSz"
      },
      "outputs": [],
      "source": [
        "import pandas as pd\n",
        "import numpy as np\n",
        "import matplotlib.pyplot as plt\n",
        "import seaborn as sns\n"
      ]
    },
    {
      "cell_type": "code",
      "source": [
        "# data read\n",
        "data = pd.read_csv('crown.csv')"
      ],
      "metadata": {
        "id": "OAnt2G88U8eC"
      },
      "execution_count": 29,
      "outputs": []
    },
    {
      "cell_type": "code",
      "source": [
        "data.info()"
      ],
      "metadata": {
        "colab": {
          "base_uri": "https://localhost:8080/"
        },
        "id": "VyK4VNgXVDWu",
        "outputId": "eb748ceb-5ac5-4664-9d52-49cc608b85b2"
      },
      "execution_count": 7,
      "outputs": [
        {
          "output_type": "stream",
          "name": "stdout",
          "text": [
            "<class 'pandas.core.frame.DataFrame'>\n",
            "RangeIndex: 350398 entries, 0 to 350397\n",
            "Data columns (total 6 columns):\n",
            " #   Column              Non-Null Count   Dtype \n",
            "---  ------              --------------   ----- \n",
            " 0   transport_date      350398 non-null  object\n",
            " 1   transport_time      350398 non-null  int64 \n",
            " 2   sender_id           350398 non-null  int64 \n",
            " 3   recipient_country   350398 non-null  object\n",
            " 4   num_animals         350398 non-null  int64 \n",
            " 5   reporting_datetime  350398 non-null  object\n",
            "dtypes: int64(3), object(3)\n",
            "memory usage: 16.0+ MB\n"
          ]
        }
      ]
    },
    {
      "cell_type": "code",
      "source": [
        "data.head()"
      ],
      "metadata": {
        "colab": {
          "base_uri": "https://localhost:8080/",
          "height": 206
        },
        "id": "NE8ghJF2VEls",
        "outputId": "315ac91b-0837-4396-f130-171e2e330b7f"
      },
      "execution_count": 8,
      "outputs": [
        {
          "output_type": "execute_result",
          "data": {
            "text/plain": [
              "  transport_date  transport_time  sender_id recipient_country  num_animals  \\\n",
              "0     2012-05-31            1315         80                PL          349   \n",
              "1     2012-05-31            1315         80                PL          299   \n",
              "2     2012-05-29             800        288                BE           97   \n",
              "3     2012-05-29             800        288                BE           24   \n",
              "4     2012-05-31             800        288                FR           12   \n",
              "\n",
              "    reporting_datetime  \n",
              "0  2012-06-01 15:12:26  \n",
              "1  2012-06-01 15:15:34  \n",
              "2  2012-06-04 10:15:57  \n",
              "3  2012-06-04 10:15:57  \n",
              "4  2012-06-04 10:15:57  "
            ],
            "text/html": [
              "\n",
              "  <div id=\"df-bafc8176-0c3c-47bd-849b-cbe865ac86fc\">\n",
              "    <div class=\"colab-df-container\">\n",
              "      <div>\n",
              "<style scoped>\n",
              "    .dataframe tbody tr th:only-of-type {\n",
              "        vertical-align: middle;\n",
              "    }\n",
              "\n",
              "    .dataframe tbody tr th {\n",
              "        vertical-align: top;\n",
              "    }\n",
              "\n",
              "    .dataframe thead th {\n",
              "        text-align: right;\n",
              "    }\n",
              "</style>\n",
              "<table border=\"1\" class=\"dataframe\">\n",
              "  <thead>\n",
              "    <tr style=\"text-align: right;\">\n",
              "      <th></th>\n",
              "      <th>transport_date</th>\n",
              "      <th>transport_time</th>\n",
              "      <th>sender_id</th>\n",
              "      <th>recipient_country</th>\n",
              "      <th>num_animals</th>\n",
              "      <th>reporting_datetime</th>\n",
              "    </tr>\n",
              "  </thead>\n",
              "  <tbody>\n",
              "    <tr>\n",
              "      <th>0</th>\n",
              "      <td>2012-05-31</td>\n",
              "      <td>1315</td>\n",
              "      <td>80</td>\n",
              "      <td>PL</td>\n",
              "      <td>349</td>\n",
              "      <td>2012-06-01 15:12:26</td>\n",
              "    </tr>\n",
              "    <tr>\n",
              "      <th>1</th>\n",
              "      <td>2012-05-31</td>\n",
              "      <td>1315</td>\n",
              "      <td>80</td>\n",
              "      <td>PL</td>\n",
              "      <td>299</td>\n",
              "      <td>2012-06-01 15:15:34</td>\n",
              "    </tr>\n",
              "    <tr>\n",
              "      <th>2</th>\n",
              "      <td>2012-05-29</td>\n",
              "      <td>800</td>\n",
              "      <td>288</td>\n",
              "      <td>BE</td>\n",
              "      <td>97</td>\n",
              "      <td>2012-06-04 10:15:57</td>\n",
              "    </tr>\n",
              "    <tr>\n",
              "      <th>3</th>\n",
              "      <td>2012-05-29</td>\n",
              "      <td>800</td>\n",
              "      <td>288</td>\n",
              "      <td>BE</td>\n",
              "      <td>24</td>\n",
              "      <td>2012-06-04 10:15:57</td>\n",
              "    </tr>\n",
              "    <tr>\n",
              "      <th>4</th>\n",
              "      <td>2012-05-31</td>\n",
              "      <td>800</td>\n",
              "      <td>288</td>\n",
              "      <td>FR</td>\n",
              "      <td>12</td>\n",
              "      <td>2012-06-04 10:15:57</td>\n",
              "    </tr>\n",
              "  </tbody>\n",
              "</table>\n",
              "</div>\n",
              "      <button class=\"colab-df-convert\" onclick=\"convertToInteractive('df-bafc8176-0c3c-47bd-849b-cbe865ac86fc')\"\n",
              "              title=\"Convert this dataframe to an interactive table.\"\n",
              "              style=\"display:none;\">\n",
              "        \n",
              "  <svg xmlns=\"http://www.w3.org/2000/svg\" height=\"24px\"viewBox=\"0 0 24 24\"\n",
              "       width=\"24px\">\n",
              "    <path d=\"M0 0h24v24H0V0z\" fill=\"none\"/>\n",
              "    <path d=\"M18.56 5.44l.94 2.06.94-2.06 2.06-.94-2.06-.94-.94-2.06-.94 2.06-2.06.94zm-11 1L8.5 8.5l.94-2.06 2.06-.94-2.06-.94L8.5 2.5l-.94 2.06-2.06.94zm10 10l.94 2.06.94-2.06 2.06-.94-2.06-.94-.94-2.06-.94 2.06-2.06.94z\"/><path d=\"M17.41 7.96l-1.37-1.37c-.4-.4-.92-.59-1.43-.59-.52 0-1.04.2-1.43.59L10.3 9.45l-7.72 7.72c-.78.78-.78 2.05 0 2.83L4 21.41c.39.39.9.59 1.41.59.51 0 1.02-.2 1.41-.59l7.78-7.78 2.81-2.81c.8-.78.8-2.07 0-2.86zM5.41 20L4 18.59l7.72-7.72 1.47 1.35L5.41 20z\"/>\n",
              "  </svg>\n",
              "      </button>\n",
              "      \n",
              "  <style>\n",
              "    .colab-df-container {\n",
              "      display:flex;\n",
              "      flex-wrap:wrap;\n",
              "      gap: 12px;\n",
              "    }\n",
              "\n",
              "    .colab-df-convert {\n",
              "      background-color: #E8F0FE;\n",
              "      border: none;\n",
              "      border-radius: 50%;\n",
              "      cursor: pointer;\n",
              "      display: none;\n",
              "      fill: #1967D2;\n",
              "      height: 32px;\n",
              "      padding: 0 0 0 0;\n",
              "      width: 32px;\n",
              "    }\n",
              "\n",
              "    .colab-df-convert:hover {\n",
              "      background-color: #E2EBFA;\n",
              "      box-shadow: 0px 1px 2px rgba(60, 64, 67, 0.3), 0px 1px 3px 1px rgba(60, 64, 67, 0.15);\n",
              "      fill: #174EA6;\n",
              "    }\n",
              "\n",
              "    [theme=dark] .colab-df-convert {\n",
              "      background-color: #3B4455;\n",
              "      fill: #D2E3FC;\n",
              "    }\n",
              "\n",
              "    [theme=dark] .colab-df-convert:hover {\n",
              "      background-color: #434B5C;\n",
              "      box-shadow: 0px 1px 3px 1px rgba(0, 0, 0, 0.15);\n",
              "      filter: drop-shadow(0px 1px 2px rgba(0, 0, 0, 0.3));\n",
              "      fill: #FFFFFF;\n",
              "    }\n",
              "  </style>\n",
              "\n",
              "      <script>\n",
              "        const buttonEl =\n",
              "          document.querySelector('#df-bafc8176-0c3c-47bd-849b-cbe865ac86fc button.colab-df-convert');\n",
              "        buttonEl.style.display =\n",
              "          google.colab.kernel.accessAllowed ? 'block' : 'none';\n",
              "\n",
              "        async function convertToInteractive(key) {\n",
              "          const element = document.querySelector('#df-bafc8176-0c3c-47bd-849b-cbe865ac86fc');\n",
              "          const dataTable =\n",
              "            await google.colab.kernel.invokeFunction('convertToInteractive',\n",
              "                                                     [key], {});\n",
              "          if (!dataTable) return;\n",
              "\n",
              "          const docLinkHtml = 'Like what you see? Visit the ' +\n",
              "            '<a target=\"_blank\" href=https://colab.research.google.com/notebooks/data_table.ipynb>data table notebook</a>'\n",
              "            + ' to learn more about interactive tables.';\n",
              "          element.innerHTML = '';\n",
              "          dataTable['output_type'] = 'display_data';\n",
              "          await google.colab.output.renderOutput(dataTable, element);\n",
              "          const docLink = document.createElement('div');\n",
              "          docLink.innerHTML = docLinkHtml;\n",
              "          element.appendChild(docLink);\n",
              "        }\n",
              "      </script>\n",
              "    </div>\n",
              "  </div>\n",
              "  "
            ]
          },
          "metadata": {},
          "execution_count": 8
        }
      ]
    },
    {
      "cell_type": "markdown",
      "source": [
        "### The Goal of analysis\n"
      ],
      "metadata": {
        "id": "DHLqPXSwWWAu"
      }
    },
    {
      "cell_type": "markdown",
      "source": [
        "I assumed above columns name is below concept.\n",
        "\n",
        "- transport time is cost!\n",
        "- num_animals income!\n",
        "- profit = income -cost\n",
        "\n"
      ],
      "metadata": {
        "id": "SRHZF5BjN9LV"
      }
    },
    {
      "cell_type": "code",
      "source": [
        "# which country is the most important customer \n",
        "data_group_num = data.groupby('recipient_country')['num_animals'].sum()"
      ],
      "metadata": {
        "id": "0-csNZNiVlgy"
      },
      "execution_count": 39,
      "outputs": []
    },
    {
      "cell_type": "code",
      "source": [
        "data_group_num.nlargest().head()"
      ],
      "metadata": {
        "colab": {
          "base_uri": "https://localhost:8080/"
        },
        "id": "THUzpuDPgcUd",
        "outputId": "bd78f305-1197-4136-de43-8be06d590574"
      },
      "execution_count": 41,
      "outputs": [
        {
          "output_type": "execute_result",
          "data": {
            "text/plain": [
              "recipient_country\n",
              "DE    67724901\n",
              "PL    55326073\n",
              "IT     8484360\n",
              "RO     1692099\n",
              "HR     1460582\n",
              "Name: num_animals, dtype: int64"
            ]
          },
          "metadata": {},
          "execution_count": 41
        }
      ]
    },
    {
      "cell_type": "code",
      "source": [
        "total_animals = sum(data['num_animals'])"
      ],
      "metadata": {
        "id": "PNRDhN-HfAfO"
      },
      "execution_count": 42,
      "outputs": []
    },
    {
      "cell_type": "code",
      "source": [
        "pc_animals = [x*100 /total_animals for x in data_group_num]"
      ],
      "metadata": {
        "id": "K2xDvBHef6TC"
      },
      "execution_count": 44,
      "outputs": []
    },
    {
      "cell_type": "code",
      "source": [
        "# German and Finland account for 88% of total order.\n",
        "pc_animals.sort(reverse = True)\n",
        "print(pc_animals)"
      ],
      "metadata": {
        "colab": {
          "base_uri": "https://localhost:8080/"
        },
        "id": "sNhBPcIigKVQ",
        "outputId": "27ca793d-8857-428a-ab61-7a5923cb8905"
      },
      "execution_count": 56,
      "outputs": [
        {
          "output_type": "stream",
          "name": "stdout",
          "text": [
            "[48.41545959606571, 39.5517337403045, 6.065334651112684, 1.2096547880822033, 1.0441469498455354, 0.8490607791017853, 0.7409295442975866, 0.6063111361345989, 0.40805445409975744, 0.19807867587667194, 0.19686337278876764, 0.13370264154204348, 0.12489955788060035, 0.0712961130939893, 0.06847375039337394, 0.053713536948691784, 0.04488328768881315, 0.028398773627645618, 0.026813875424184563, 0.026475020327910076, 0.023789200503641618, 0.017842079098773552, 0.011797733446873144, 0.011273723350735591, 0.009294209085790326, 0.007907333797240734, 0.007697872735619585, 0.007492700979014568, 0.006137995478085973, 0.0055260546291177, 0.003402848646131986, 0.003256297391414117, 0.002123205982985714, 0.0020760236278082535, 0.0019916672958243094, 0.0018243844001951319, 0.0014983972189690426, 0.0011931416786542615, 0.0010387266980734823, 0.0009407875668717843, 0.0009364982618556515, 0.0009086177792507887, 0.000753487914500654, 0.0006283831848634487, 0.0006162301539844058, 0.0005390226636940162, 0.0005082826444117315, 0.00048826588766977865, 0.00042821561744392007, 0.00041820723907294365, 0.0002859536677421837, 0.00022018432416148144, 0.00020016756741952858, 0.00016084893810497833, 0.00016084893810497833, 0.00011795588794365077, 0.00010008378370976429, 5.218654436294852e-05, 4.8612123516171224e-05, 1.4297683387109184e-05, 1.2867915048398265e-05, 1.0723262540331889e-05, 7.148841693554592e-07, 7.148841693554592e-07]\n"
          ]
        }
      ]
    },
    {
      "cell_type": "code",
      "source": [
        "# to calculating costs, I imported distance dataset.\n",
        "dis = pd.read_excel('distance.xls')"
      ],
      "metadata": {
        "id": "eHdKxhjMUf0R"
      },
      "execution_count": 22,
      "outputs": []
    },
    {
      "cell_type": "code",
      "source": [
        "dis.head()"
      ],
      "metadata": {
        "colab": {
          "base_uri": "https://localhost:8080/",
          "height": 206
        },
        "id": "zTRJ9KvgUpbf",
        "outputId": "54ce32d2-9081-4598-c655-57cc8d833ddc"
      },
      "execution_count": 23,
      "outputs": [
        {
          "output_type": "execute_result",
          "data": {
            "text/plain": [
              "                                         Country  Distance      Mileage\n",
              "0               Distance from Andorra to Denmark  1,633 km  1,015 miles\n",
              "1  Distance from United Arab Emirates to Denmark  5,112 km  3,176 miles\n",
              "2           Distance from Afghanistan to Denmark  5,004 km  3,109 miles\n",
              "3   Distance from Antigua and Barbuda to Denmark  7,287 km  4,528 miles\n",
              "4              Distance from Anguilla to Denmark  7,260 km  4,511 miles"
            ],
            "text/html": [
              "\n",
              "  <div id=\"df-102e3c7a-cc0e-4086-93e5-19d0e2d605d1\">\n",
              "    <div class=\"colab-df-container\">\n",
              "      <div>\n",
              "<style scoped>\n",
              "    .dataframe tbody tr th:only-of-type {\n",
              "        vertical-align: middle;\n",
              "    }\n",
              "\n",
              "    .dataframe tbody tr th {\n",
              "        vertical-align: top;\n",
              "    }\n",
              "\n",
              "    .dataframe thead th {\n",
              "        text-align: right;\n",
              "    }\n",
              "</style>\n",
              "<table border=\"1\" class=\"dataframe\">\n",
              "  <thead>\n",
              "    <tr style=\"text-align: right;\">\n",
              "      <th></th>\n",
              "      <th>Country</th>\n",
              "      <th>Distance</th>\n",
              "      <th>Mileage</th>\n",
              "    </tr>\n",
              "  </thead>\n",
              "  <tbody>\n",
              "    <tr>\n",
              "      <th>0</th>\n",
              "      <td>Distance from Andorra to Denmark</td>\n",
              "      <td>1,633 km</td>\n",
              "      <td>1,015 miles</td>\n",
              "    </tr>\n",
              "    <tr>\n",
              "      <th>1</th>\n",
              "      <td>Distance from United Arab Emirates to Denmark</td>\n",
              "      <td>5,112 km</td>\n",
              "      <td>3,176 miles</td>\n",
              "    </tr>\n",
              "    <tr>\n",
              "      <th>2</th>\n",
              "      <td>Distance from Afghanistan to Denmark</td>\n",
              "      <td>5,004 km</td>\n",
              "      <td>3,109 miles</td>\n",
              "    </tr>\n",
              "    <tr>\n",
              "      <th>3</th>\n",
              "      <td>Distance from Antigua and Barbuda to Denmark</td>\n",
              "      <td>7,287 km</td>\n",
              "      <td>4,528 miles</td>\n",
              "    </tr>\n",
              "    <tr>\n",
              "      <th>4</th>\n",
              "      <td>Distance from Anguilla to Denmark</td>\n",
              "      <td>7,260 km</td>\n",
              "      <td>4,511 miles</td>\n",
              "    </tr>\n",
              "  </tbody>\n",
              "</table>\n",
              "</div>\n",
              "      <button class=\"colab-df-convert\" onclick=\"convertToInteractive('df-102e3c7a-cc0e-4086-93e5-19d0e2d605d1')\"\n",
              "              title=\"Convert this dataframe to an interactive table.\"\n",
              "              style=\"display:none;\">\n",
              "        \n",
              "  <svg xmlns=\"http://www.w3.org/2000/svg\" height=\"24px\"viewBox=\"0 0 24 24\"\n",
              "       width=\"24px\">\n",
              "    <path d=\"M0 0h24v24H0V0z\" fill=\"none\"/>\n",
              "    <path d=\"M18.56 5.44l.94 2.06.94-2.06 2.06-.94-2.06-.94-.94-2.06-.94 2.06-2.06.94zm-11 1L8.5 8.5l.94-2.06 2.06-.94-2.06-.94L8.5 2.5l-.94 2.06-2.06.94zm10 10l.94 2.06.94-2.06 2.06-.94-2.06-.94-.94-2.06-.94 2.06-2.06.94z\"/><path d=\"M17.41 7.96l-1.37-1.37c-.4-.4-.92-.59-1.43-.59-.52 0-1.04.2-1.43.59L10.3 9.45l-7.72 7.72c-.78.78-.78 2.05 0 2.83L4 21.41c.39.39.9.59 1.41.59.51 0 1.02-.2 1.41-.59l7.78-7.78 2.81-2.81c.8-.78.8-2.07 0-2.86zM5.41 20L4 18.59l7.72-7.72 1.47 1.35L5.41 20z\"/>\n",
              "  </svg>\n",
              "      </button>\n",
              "      \n",
              "  <style>\n",
              "    .colab-df-container {\n",
              "      display:flex;\n",
              "      flex-wrap:wrap;\n",
              "      gap: 12px;\n",
              "    }\n",
              "\n",
              "    .colab-df-convert {\n",
              "      background-color: #E8F0FE;\n",
              "      border: none;\n",
              "      border-radius: 50%;\n",
              "      cursor: pointer;\n",
              "      display: none;\n",
              "      fill: #1967D2;\n",
              "      height: 32px;\n",
              "      padding: 0 0 0 0;\n",
              "      width: 32px;\n",
              "    }\n",
              "\n",
              "    .colab-df-convert:hover {\n",
              "      background-color: #E2EBFA;\n",
              "      box-shadow: 0px 1px 2px rgba(60, 64, 67, 0.3), 0px 1px 3px 1px rgba(60, 64, 67, 0.15);\n",
              "      fill: #174EA6;\n",
              "    }\n",
              "\n",
              "    [theme=dark] .colab-df-convert {\n",
              "      background-color: #3B4455;\n",
              "      fill: #D2E3FC;\n",
              "    }\n",
              "\n",
              "    [theme=dark] .colab-df-convert:hover {\n",
              "      background-color: #434B5C;\n",
              "      box-shadow: 0px 1px 3px 1px rgba(0, 0, 0, 0.15);\n",
              "      filter: drop-shadow(0px 1px 2px rgba(0, 0, 0, 0.3));\n",
              "      fill: #FFFFFF;\n",
              "    }\n",
              "  </style>\n",
              "\n",
              "      <script>\n",
              "        const buttonEl =\n",
              "          document.querySelector('#df-102e3c7a-cc0e-4086-93e5-19d0e2d605d1 button.colab-df-convert');\n",
              "        buttonEl.style.display =\n",
              "          google.colab.kernel.accessAllowed ? 'block' : 'none';\n",
              "\n",
              "        async function convertToInteractive(key) {\n",
              "          const element = document.querySelector('#df-102e3c7a-cc0e-4086-93e5-19d0e2d605d1');\n",
              "          const dataTable =\n",
              "            await google.colab.kernel.invokeFunction('convertToInteractive',\n",
              "                                                     [key], {});\n",
              "          if (!dataTable) return;\n",
              "\n",
              "          const docLinkHtml = 'Like what you see? Visit the ' +\n",
              "            '<a target=\"_blank\" href=https://colab.research.google.com/notebooks/data_table.ipynb>data table notebook</a>'\n",
              "            + ' to learn more about interactive tables.';\n",
              "          element.innerHTML = '';\n",
              "          dataTable['output_type'] = 'display_data';\n",
              "          await google.colab.output.renderOutput(dataTable, element);\n",
              "          const docLink = document.createElement('div');\n",
              "          docLink.innerHTML = docLinkHtml;\n",
              "          element.appendChild(docLink);\n",
              "        }\n",
              "      </script>\n",
              "    </div>\n",
              "  </div>\n",
              "  "
            ]
          },
          "metadata": {},
          "execution_count": 23
        }
      ]
    },
    {
      "cell_type": "code",
      "source": [
        "dis['country_name'] = [i[14:] for i in dis['Country']] "
      ],
      "metadata": {
        "id": "s05KET-9Vdxs"
      },
      "execution_count": 24,
      "outputs": []
    },
    {
      "cell_type": "code",
      "source": [
        "dis['country_name']"
      ],
      "metadata": {
        "colab": {
          "base_uri": "https://localhost:8080/"
        },
        "id": "P5gRPxhOYpIW",
        "outputId": "7daa78e4-9f7d-444a-d9da-94beb6023901"
      },
      "execution_count": 25,
      "outputs": [
        {
          "output_type": "execute_result",
          "data": {
            "text/plain": [
              "0                   Andorra to Denmark\n",
              "1      United Arab Emirates to Denmark\n",
              "2               Afghanistan to Denmark\n",
              "3       Antigua and Barbuda to Denmark\n",
              "4                  Anguilla to Denmark\n",
              "                    ...               \n",
              "245                  Denmark to Panama\n",
              "246                 Denmark to Reunion\n",
              "247            Denmark to Saint Helena\n",
              "248              Denmark to San Marino\n",
              "249                  Denmark to Taiwan\n",
              "Name: country_name, Length: 250, dtype: object"
            ]
          },
          "metadata": {},
          "execution_count": 25
        }
      ]
    },
    {
      "cell_type": "code",
      "source": [
        "plt.style.use('ggplot')\n",
        "\n",
        "data['num_animals'].plot(label='num_animals', title='Order by countries')"
      ],
      "metadata": {
        "colab": {
          "base_uri": "https://localhost:8080/",
          "height": 299
        },
        "id": "ZWXZYH4GMI-B",
        "outputId": "ccba39d9-aa46-4be5-d334-c1636c69f999"
      },
      "execution_count": 10,
      "outputs": [
        {
          "output_type": "execute_result",
          "data": {
            "text/plain": [
              "<AxesSubplot:title={'center':'Order by countries'}>"
            ]
          },
          "metadata": {},
          "execution_count": 10
        },
        {
          "output_type": "display_data",
          "data": {
            "text/plain": [
              "<Figure size 432x288 with 1 Axes>"
            ],
            "image/png": "[encoded data removed]"
          },
          "metadata": {}
        }
      ]
    },
    {
      "cell_type": "code",
      "source": [
        "data.hist()"
      ],
      "metadata": {
        "id": "ZVN7c4ShVMmc"
      },
      "execution_count": null,
      "outputs": []
    },
    {
      "cell_type": "code",
      "source": [
        "import altair as alt"
      ],
      "metadata": {
        "id": "ubg5GZuqVV5T"
      },
      "execution_count": null,
      "outputs": []
    },
    {
      "cell_type": "code",
      "source": [
        "source = pd.DataFrame(data.groupby('recipient_country')['transport_time'].median().nlargest(20)).reset_index()\n",
        "\n",
        "source['transport_time'] = [d.days for d in source['transport_time']]\n",
        "\n",
        "alt.Chart(source).mark_bar().encode(\n",
        "    x='length',\n",
        "    y='place:N',\n",
        "    tooltip=['transport_time']\n",
        ").interactive()"
      ],
      "metadata": {
        "id": "OURhvKMYaroo"
      },
      "execution_count": null,
      "outputs": []
    },
    {
      "cell_type": "markdown",
      "source": [
        "I deep into the following,\n",
        "\n",
        "1. which country is the most important customer?\n",
        "2. Amounts of the customers' order by a temperture(wheather)\n",
        "3. Predict amount of the next order by customers."
      ],
      "metadata": {
        "id": "QMMvzjAebUSg"
      }
    }
  ]
}